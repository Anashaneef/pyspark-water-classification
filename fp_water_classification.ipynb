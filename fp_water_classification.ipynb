{
  "cells": [
    {
      "cell_type": "code",
      "execution_count": null,
      "metadata": {
        "colab": {
          "base_uri": "https://localhost:8080/"
        },
        "id": "D8UibA372MGV",
        "outputId": "c440bb41-c66e-4fb7-eafb-660c97dcb257"
      },
      "outputs": [
        {
          "name": "stdout",
          "output_type": "stream",
          "text": [
            "Mounted at /content/drive\n"
          ]
        }
      ],
      "source": [
        "from google.colab import drive\n",
        "drive.mount('/content/drive')"
      ]
    },
    {
      "cell_type": "markdown",
      "metadata": {
        "id": "fvS90AxLD-L1"
      },
      "source": [
        "## **Setup Pyspark**"
      ]
    },
    {
      "cell_type": "code",
      "execution_count": null,
      "metadata": {
        "colab": {
          "base_uri": "https://localhost:8080/"
        },
        "id": "-nwT8EIND69j",
        "outputId": "2e2b195b-72e6-444d-cc81-aa9693f942cb"
      },
      "outputs": [
        {
          "name": "stdout",
          "output_type": "stream",
          "text": [
            "^C\n"
          ]
        }
      ],
      "source": [
        "!apt-get install openjdk-8-jdk-headless -qq > /dev/null\n",
        "!tar xf /content/drive/MyDrive/spark-3.0.0-bin-hadoop3.2.tgz"
      ]
    },
    {
      "cell_type": "code",
      "execution_count": null,
      "metadata": {
        "colab": {
          "base_uri": "https://localhost:8080/"
        },
        "id": "1zJ8dDoXEKW4",
        "outputId": "97179f5c-0b06-4bb6-e8fb-5080555eab5f"
      },
      "outputs": [
        {
          "name": "stdout",
          "output_type": "stream",
          "text": [
            "Looking in indexes: https://pypi.org/simple, https://us-python.pkg.dev/colab-wheels/public/simple/\n",
            "Collecting pyspark\n",
            "  Downloading pyspark-3.3.1.tar.gz (281.4 MB)\n",
            "\u001b[2K     \u001b[90m━━━━━━━━━━━━━━━━━━━━━━━━━━━━━━━━━━━━━━━\u001b[0m \u001b[32m281.4/281.4 MB\u001b[0m \u001b[31m4.5 MB/s\u001b[0m eta \u001b[36m0:00:00\u001b[0m\n",
            "\u001b[?25h  Preparing metadata (setup.py) ... \u001b[?25l\u001b[?25hdone\n",
            "Collecting py4j==0.10.9.5\n",
            "  Downloading py4j-0.10.9.5-py2.py3-none-any.whl (199 kB)\n",
            "\u001b[2K     \u001b[90m━━━━━━━━━━━━━━━━━━━━━━━━━━━━━━━━━━━━━━\u001b[0m \u001b[32m199.7/199.7 KB\u001b[0m \u001b[31m16.8 MB/s\u001b[0m eta \u001b[36m0:00:00\u001b[0m\n",
            "\u001b[?25hBuilding wheels for collected packages: pyspark\n",
            "  Building wheel for pyspark (setup.py) ... \u001b[?25l\u001b[?25hdone\n",
            "  Created wheel for pyspark: filename=pyspark-3.3.1-py2.py3-none-any.whl size=281845512 sha256=bfe776d2da33fdcea2a570623f0b6e381a9afd8ff3061f5a17bc831adc9962d8\n",
            "  Stored in directory: /root/.cache/pip/wheels/43/dc/11/ec201cd671da62fa9c5cc77078235e40722170ceba231d7598\n",
            "Successfully built pyspark\n",
            "Installing collected packages: py4j, pyspark\n",
            "Successfully installed py4j-0.10.9.5 pyspark-3.3.1\n"
          ]
        }
      ],
      "source": [
        "!pip install -q findspark\n",
        "import os\n",
        "os.environ[\"JAVA_HOME\"] = \"/usr/lib/jvm/java-8-openjdk-amd64\"\n",
        "os.environ[\"SPARK_HOME\"] = \"/content/spark-3.0.0-bin-hadoop3.2\"\n",
        "!pip install pyspark"
      ]
    },
    {
      "cell_type": "code",
      "execution_count": null,
      "metadata": {
        "id": "k-hFd-bsEM8R"
      },
      "outputs": [],
      "source": [
        "from pyspark.sql import SparkSession\n",
        "spark = SparkSession.builder.getOrCreate()\n",
        "sc = spark.sparkContext"
      ]
    },
    {
      "cell_type": "markdown",
      "metadata": {
        "id": "grKSUlOCDza5"
      },
      "source": [
        "## **Import Library**"
      ]
    },
    {
      "cell_type": "code",
      "execution_count": null,
      "metadata": {
        "id": "85hFsg4xC-pD"
      },
      "outputs": [],
      "source": [
        "import numpy as np\n",
        "import zipfile\n",
        "from google.colab import files\n",
        "from pyspark.sql.functions import isnan, when, count, col\n",
        "from pyspark.ml.linalg import Vectors\n",
        "from pyspark.ml.feature import VectorAssembler\n",
        "from pyspark.ml.classification import MultilayerPerceptronClassifier\n",
        "from pyspark.ml.evaluation import MulticlassClassificationEvaluator\n",
        "from sklearn.metrics import classification_report, confusion_matrix"
      ]
    },
    {
      "cell_type": "markdown",
      "metadata": {
        "id": "Ow_emxlzCoZN"
      },
      "source": [
        "## **Preparing dataset from Kaggle**"
      ]
    },
    {
      "cell_type": "code",
      "execution_count": null,
      "metadata": {
        "id": "6RvgwsZKCXxx"
      },
      "outputs": [],
      "source": [
        "# Install kaggle\n",
        "!pip install -q kaggle"
      ]
    },
    {
      "cell_type": "code",
      "execution_count": null,
      "metadata": {
        "colab": {
          "base_uri": "https://localhost:8080/",
          "height": 74
        },
        "id": "2YeTDThnCvt4",
        "outputId": "b088c50d-709c-48d3-f1b3-98df86a4d007"
      },
      "outputs": [
        {
          "data": {
            "text/html": [
              "\n",
              "     <input type=\"file\" id=\"files-a5127da6-7859-43e5-a400-a7487291d5bc\" name=\"files[]\" multiple disabled\n",
              "        style=\"border:none\" />\n",
              "     <output id=\"result-a5127da6-7859-43e5-a400-a7487291d5bc\">\n",
              "      Upload widget is only available when the cell has been executed in the\n",
              "      current browser session. Please rerun this cell to enable.\n",
              "      </output>\n",
              "      <script>// Copyright 2017 Google LLC\n",
              "//\n",
              "// Licensed under the Apache License, Version 2.0 (the \"License\");\n",
              "// you may not use this file except in compliance with the License.\n",
              "// You may obtain a copy of the License at\n",
              "//\n",
              "//      http://www.apache.org/licenses/LICENSE-2.0\n",
              "//\n",
              "// Unless required by applicable law or agreed to in writing, software\n",
              "// distributed under the License is distributed on an \"AS IS\" BASIS,\n",
              "// WITHOUT WARRANTIES OR CONDITIONS OF ANY KIND, either express or implied.\n",
              "// See the License for the specific language governing permissions and\n",
              "// limitations under the License.\n",
              "\n",
              "/**\n",
              " * @fileoverview Helpers for google.colab Python module.\n",
              " */\n",
              "(function(scope) {\n",
              "function span(text, styleAttributes = {}) {\n",
              "  const element = document.createElement('span');\n",
              "  element.textContent = text;\n",
              "  for (const key of Object.keys(styleAttributes)) {\n",
              "    element.style[key] = styleAttributes[key];\n",
              "  }\n",
              "  return element;\n",
              "}\n",
              "\n",
              "// Max number of bytes which will be uploaded at a time.\n",
              "const MAX_PAYLOAD_SIZE = 100 * 1024;\n",
              "\n",
              "function _uploadFiles(inputId, outputId) {\n",
              "  const steps = uploadFilesStep(inputId, outputId);\n",
              "  const outputElement = document.getElementById(outputId);\n",
              "  // Cache steps on the outputElement to make it available for the next call\n",
              "  // to uploadFilesContinue from Python.\n",
              "  outputElement.steps = steps;\n",
              "\n",
              "  return _uploadFilesContinue(outputId);\n",
              "}\n",
              "\n",
              "// This is roughly an async generator (not supported in the browser yet),\n",
              "// where there are multiple asynchronous steps and the Python side is going\n",
              "// to poll for completion of each step.\n",
              "// This uses a Promise to block the python side on completion of each step,\n",
              "// then passes the result of the previous step as the input to the next step.\n",
              "function _uploadFilesContinue(outputId) {\n",
              "  const outputElement = document.getElementById(outputId);\n",
              "  const steps = outputElement.steps;\n",
              "\n",
              "  const next = steps.next(outputElement.lastPromiseValue);\n",
              "  return Promise.resolve(next.value.promise).then((value) => {\n",
              "    // Cache the last promise value to make it available to the next\n",
              "    // step of the generator.\n",
              "    outputElement.lastPromiseValue = value;\n",
              "    return next.value.response;\n",
              "  });\n",
              "}\n",
              "\n",
              "/**\n",
              " * Generator function which is called between each async step of the upload\n",
              " * process.\n",
              " * @param {string} inputId Element ID of the input file picker element.\n",
              " * @param {string} outputId Element ID of the output display.\n",
              " * @return {!Iterable<!Object>} Iterable of next steps.\n",
              " */\n",
              "function* uploadFilesStep(inputId, outputId) {\n",
              "  const inputElement = document.getElementById(inputId);\n",
              "  inputElement.disabled = false;\n",
              "\n",
              "  const outputElement = document.getElementById(outputId);\n",
              "  outputElement.innerHTML = '';\n",
              "\n",
              "  const pickedPromise = new Promise((resolve) => {\n",
              "    inputElement.addEventListener('change', (e) => {\n",
              "      resolve(e.target.files);\n",
              "    });\n",
              "  });\n",
              "\n",
              "  const cancel = document.createElement('button');\n",
              "  inputElement.parentElement.appendChild(cancel);\n",
              "  cancel.textContent = 'Cancel upload';\n",
              "  const cancelPromise = new Promise((resolve) => {\n",
              "    cancel.onclick = () => {\n",
              "      resolve(null);\n",
              "    };\n",
              "  });\n",
              "\n",
              "  // Wait for the user to pick the files.\n",
              "  const files = yield {\n",
              "    promise: Promise.race([pickedPromise, cancelPromise]),\n",
              "    response: {\n",
              "      action: 'starting',\n",
              "    }\n",
              "  };\n",
              "\n",
              "  cancel.remove();\n",
              "\n",
              "  // Disable the input element since further picks are not allowed.\n",
              "  inputElement.disabled = true;\n",
              "\n",
              "  if (!files) {\n",
              "    return {\n",
              "      response: {\n",
              "        action: 'complete',\n",
              "      }\n",
              "    };\n",
              "  }\n",
              "\n",
              "  for (const file of files) {\n",
              "    const li = document.createElement('li');\n",
              "    li.append(span(file.name, {fontWeight: 'bold'}));\n",
              "    li.append(span(\n",
              "        `(${file.type || 'n/a'}) - ${file.size} bytes, ` +\n",
              "        `last modified: ${\n",
              "            file.lastModifiedDate ? file.lastModifiedDate.toLocaleDateString() :\n",
              "                                    'n/a'} - `));\n",
              "    const percent = span('0% done');\n",
              "    li.appendChild(percent);\n",
              "\n",
              "    outputElement.appendChild(li);\n",
              "\n",
              "    const fileDataPromise = new Promise((resolve) => {\n",
              "      const reader = new FileReader();\n",
              "      reader.onload = (e) => {\n",
              "        resolve(e.target.result);\n",
              "      };\n",
              "      reader.readAsArrayBuffer(file);\n",
              "    });\n",
              "    // Wait for the data to be ready.\n",
              "    let fileData = yield {\n",
              "      promise: fileDataPromise,\n",
              "      response: {\n",
              "        action: 'continue',\n",
              "      }\n",
              "    };\n",
              "\n",
              "    // Use a chunked sending to avoid message size limits. See b/62115660.\n",
              "    let position = 0;\n",
              "    do {\n",
              "      const length = Math.min(fileData.byteLength - position, MAX_PAYLOAD_SIZE);\n",
              "      const chunk = new Uint8Array(fileData, position, length);\n",
              "      position += length;\n",
              "\n",
              "      const base64 = btoa(String.fromCharCode.apply(null, chunk));\n",
              "      yield {\n",
              "        response: {\n",
              "          action: 'append',\n",
              "          file: file.name,\n",
              "          data: base64,\n",
              "        },\n",
              "      };\n",
              "\n",
              "      let percentDone = fileData.byteLength === 0 ?\n",
              "          100 :\n",
              "          Math.round((position / fileData.byteLength) * 100);\n",
              "      percent.textContent = `${percentDone}% done`;\n",
              "\n",
              "    } while (position < fileData.byteLength);\n",
              "  }\n",
              "\n",
              "  // All done.\n",
              "  yield {\n",
              "    response: {\n",
              "      action: 'complete',\n",
              "    }\n",
              "  };\n",
              "}\n",
              "\n",
              "scope.google = scope.google || {};\n",
              "scope.google.colab = scope.google.colab || {};\n",
              "scope.google.colab._files = {\n",
              "  _uploadFiles,\n",
              "  _uploadFilesContinue,\n",
              "};\n",
              "})(self);\n",
              "</script> "
            ],
            "text/plain": [
              "<IPython.core.display.HTML object>"
            ]
          },
          "metadata": {},
          "output_type": "display_data"
        },
        {
          "name": "stdout",
          "output_type": "stream",
          "text": [
            "Saving kaggle.json to kaggle.json\n"
          ]
        }
      ],
      "source": [
        "# Token API\n",
        "uploaded = files.upload()"
      ]
    },
    {
      "cell_type": "code",
      "execution_count": null,
      "metadata": {
        "id": "mgoiVUDFV4lL"
      },
      "outputs": [],
      "source": [
        "# Receive dataset config\n",
        "!chmod 600 /content/kaggle.json"
      ]
    },
    {
      "cell_type": "code",
      "execution_count": null,
      "metadata": {
        "colab": {
          "base_uri": "https://localhost:8080/"
        },
        "id": "bJOxFziaDJ0m",
        "outputId": "38331375-3b19-47fd-e957-984bb5d02413"
      },
      "outputs": [
        {
          "name": "stdout",
          "output_type": "stream",
          "text": [
            "Downloading water-quality.zip to /content\n",
            "\r  0% 0.00/258k [00:00<?, ?B/s]\n",
            "\r100% 258k/258k [00:00<00:00, 58.3MB/s]\n"
          ]
        }
      ],
      "source": [
        "# Download dataset\n",
        "! KAGGLE_CONFIG_DIR=/content/ kaggle datasets download -d mssmartypants/water-quality"
      ]
    },
    {
      "cell_type": "code",
      "execution_count": null,
      "metadata": {
        "id": "iP1nI2ZxDS3j"
      },
      "outputs": [],
      "source": [
        "# extract dataset\n",
        "local_zip = '/content/water-quality.zip'\n",
        "zip_ref = zipfile.ZipFile(local_zip, 'r')\n",
        "zip_ref.extractall('/content')\n",
        "zip_ref.close()"
      ]
    },
    {
      "cell_type": "markdown",
      "metadata": {
        "id": "cP0QXOydFGY4"
      },
      "source": [
        "## **Dataset Information**"
      ]
    },
    {
      "cell_type": "markdown",
      "metadata": {
        "id": "0RQg5Q4PYfsX"
      },
      "source": [
        "**Variables in the Dataset**\n",
        "\n",
        "* aluminium - dangerous if greater than 2.8\n",
        "* ammonia - dangerous if greater than 32.5\n",
        "* arsenic - dangerous if greater than 0.01\n",
        "* barium - dangerous if greater than 2\n",
        "* cadmium - dangerous if greater than 0.005\n",
        "* chloramine - dangerous if greater than 4\n",
        "* chromium - dangerous if greater than 0.1\n",
        "* copper - dangerous if greater than 1.3\n",
        "* flouride - dangerous if greater than 1.5\n",
        "* bacteria - dangerous if greater than 0\n",
        "* viruses - dangerous if greater than 0\n",
        "* lead - dangerous if greater than 0.015\n",
        "* nitrates - dangerous if greater than 10\n",
        "* nitrites - dangerous if greater than 1\n",
        "* mercury - dangerous if greater than 0.002\n",
        "* perchlorate - dangerous if greater than 56\n",
        "* radium - dangerous if greater than 5\n",
        "* selenium - dangerous if greater than 0.5\n",
        "* silver - dangerous if greater than 0.1\n",
        "* uranium - dangerous if greater than 0.3\n",
        "* is_safe - class attribute {0 - not safe, 1 - safe}"
      ]
    },
    {
      "cell_type": "code",
      "execution_count": null,
      "metadata": {
        "colab": {
          "base_uri": "https://localhost:8080/"
        },
        "id": "d7-b_y6mDiQZ",
        "outputId": "b498274b-3f7a-4201-9565-252affc00b62"
      },
      "outputs": [
        {
          "name": "stdout",
          "output_type": "stream",
          "text": [
            "+---------+-------+-------+------+-------+----------+--------+------+--------+--------+-------+-----+--------+--------+-------+-----------+------+--------+------+-------+-------+\n",
            "|aluminium|ammonia|arsenic|barium|cadmium|chloramine|chromium|copper|flouride|bacteria|viruses| lead|nitrates|nitrites|mercury|perchlorate|radium|selenium|silver|uranium|is_safe|\n",
            "+---------+-------+-------+------+-------+----------+--------+------+--------+--------+-------+-----+--------+--------+-------+-----------+------+--------+------+-------+-------+\n",
            "|     1.65|   9.08|   0.04|  2.85|  0.007|      0.35|    0.83|  0.17|    0.05|     0.2|    0.0|0.054|   16.08|    1.13|  0.007|      37.75|  6.78|    0.08|  0.34|   0.02|      1|\n",
            "|     2.32|  21.16|   0.01|  3.31|  0.002|      5.28|    0.68|  0.66|     0.9|    0.65|   0.65|  0.1|    2.01|    1.93|  0.003|      32.26|  3.21|    0.08|  0.27|   0.05|      1|\n",
            "|     1.01|  14.02|   0.04|  0.58|  0.008|      4.24|    0.53|  0.02|    0.99|    0.05|  0.003|0.078|   14.16|    1.11|  0.006|      50.28|  7.07|    0.07|  0.44|   0.01|      0|\n",
            "|     1.36|  11.33|   0.04|  2.96|  0.001|      7.23|    0.03|  1.66|    1.08|    0.71|   0.71|0.016|    1.41|    1.29|  0.004|       9.12|  1.72|    0.02|  0.45|   0.05|      1|\n",
            "|     0.92|  24.33|   0.03|   0.2|  0.006|      2.67|    0.69|  0.57|    0.61|    0.13|  0.001|0.117|    6.74|    1.11|  0.003|       16.9|  2.41|    0.02|  0.06|   0.02|      1|\n",
            "|     0.94|  14.47|   0.03|  2.88|  0.003|       0.8|    0.43|  1.38|    0.11|    0.67|   0.67|0.135|    9.75|    1.89|  0.006|      27.17|  5.42|    0.08|  0.19|   0.02|      1|\n",
            "|     2.36|    5.6|   0.01|  1.35|  0.004|      1.28|    0.62|  1.88|    0.33|    0.13|  0.007|0.021|    18.6|    1.78|  0.007|      45.34|  2.84|     0.1|  0.24|   0.08|      0|\n",
            "|     3.93|  19.87|   0.04|  0.66|  0.001|      6.22|     0.1|  1.86|    0.86|    0.16|  0.005|0.197|   13.65|    1.81|  0.001|      53.35|  7.24|    0.08|  0.08|   0.07|      0|\n",
            "|      0.6|  24.58|   0.01|  0.71|  0.005|      3.14|    0.77|  1.45|    0.98|    0.35|  0.002|0.167|   14.66|    1.84|  0.004|      23.43|  4.99|    0.08|  0.25|   0.08|      1|\n",
            "|     0.22|  16.76|   0.02|  1.37|  0.007|       6.4|    0.49|  0.82|    1.24|    0.83|   0.83|0.109|    4.79|    1.46|   0.01|      30.42|  0.08|    0.03|  0.31|   0.01|      1|\n",
            "|     3.27|    3.6|  0.001|  2.69|  0.005|      5.75|    0.15|   0.6|    1.29|    0.04|  0.008|0.145|    8.47|    1.25|  0.006|       55.4|   7.8|    0.05|  0.33|   0.06|      0|\n",
            "|     1.35|  21.96|   0.04|  0.84|  0.002|       0.1|    0.76|  0.17|    0.58|    0.52|   0.52|0.011|    18.4|    1.49|  0.009|      21.52|   1.3|    0.08|  0.48|   0.08|      1|\n",
            "|     1.88|  19.26|   0.02|  2.78|  0.008|      0.05|    0.42|   1.0|    0.09|    0.91|   0.91|0.103|    4.37|    1.95|  0.006|      22.12|  1.97|    0.03|  0.06|   0.05|      1|\n",
            "|     4.93|  23.98|   0.04|  3.05|  0.008|       0.7|    0.51|  1.35|    1.07|     0.7|    0.7|0.101|    1.16|    1.11|  0.008|       26.8|  5.58|    0.09|  0.38|   0.03|      1|\n",
            "|     2.89|  18.82|   0.05|  3.77|  0.008|      5.99|    0.54|  0.79|    0.54|     0.2|  0.009|0.126|   17.56|    1.82|  0.009|      17.54|  4.33|     0.1|  0.05|   0.02|      1|\n",
            "|     0.61|   2.41|   0.03|  0.59|  0.002|      1.94|    0.77|  1.54|    0.62|    0.23|  0.001|0.017|    1.99|    1.08|  0.007|      11.16|  0.98|    0.01|  0.47|   0.03|      1|\n",
            "|     3.47|  15.84|   0.02|  0.06|  0.001|      5.29|    0.47|  1.08|    1.43|    0.89|   0.89| 0.08|    1.91|     1.2|  0.008|       0.18|  6.89|    0.06|  0.12|   0.08|      1|\n",
            "|     2.11|  17.03|   0.02|  0.88|  0.009|      7.78|    0.88|  1.15|    0.34|    0.85|   0.85|0.065|   17.86|    1.53|  0.003|       19.4|  1.14|     0.1|   0.4|   0.01|      1|\n",
            "|     4.88|  26.94|   0.02|  0.36|  0.001|      1.21|    0.68|  0.71|    0.99|    0.75|   0.75|0.071|    0.31|    1.22|  0.002|       56.7|   1.0|     0.0|  0.41|   0.05|      0|\n",
            "|     4.12|  17.99|   0.02|  3.43|  0.006|      0.01|    0.41|  1.82|    0.22|    0.99|   0.99|0.108|    8.06|    1.76|  0.005|      24.29|  0.88|     0.1|   0.1|   0.07|      1|\n",
            "+---------+-------+-------+------+-------+----------+--------+------+--------+--------+-------+-----+--------+--------+-------+-----------+------+--------+------+-------+-------+\n",
            "only showing top 20 rows\n",
            "\n"
          ]
        }
      ],
      "source": [
        "water = spark.read.csv('waterQuality1.csv', header=True, inferSchema=True)\n",
        "water.show()"
      ]
    },
    {
      "cell_type": "markdown",
      "metadata": {
        "id": "y-zXIJyPHbuF"
      },
      "source": [
        "## **Data Preprocessing**"
      ]
    },
    {
      "cell_type": "code",
      "execution_count": null,
      "metadata": {
        "colab": {
          "base_uri": "https://localhost:8080/"
        },
        "id": "uuibaCm3UQ_3",
        "outputId": "e86e552b-7648-4de1-f287-7b622824ec50"
      },
      "outputs": [
        {
          "name": "stdout",
          "output_type": "stream",
          "text": [
            "+---------+-------+-------+------+-------+----------+--------+------+--------+--------+-------+----+--------+--------+-------+-----------+------+--------+------+-------+-------+\n",
            "|aluminium|ammonia|arsenic|barium|cadmium|chloramine|chromium|copper|flouride|bacteria|viruses|lead|nitrates|nitrites|mercury|perchlorate|radium|selenium|silver|uranium|is_safe|\n",
            "+---------+-------+-------+------+-------+----------+--------+------+--------+--------+-------+----+--------+--------+-------+-----------+------+--------+------+-------+-------+\n",
            "|        0|      0|      0|     0|      0|         0|       0|     0|       0|       0|      0|   0|       0|       0|      0|          0|     0|       0|     0|      0|      0|\n",
            "+---------+-------+-------+------+-------+----------+--------+------+--------+--------+-------+----+--------+--------+-------+-----------+------+--------+------+-------+-------+\n",
            "\n"
          ]
        }
      ],
      "source": [
        "# Count null and NaN value\n",
        "water.select([count(when(isnan(c) | col(c).isNull(), c)).alias(c) for c in water.columns]).show()"
      ]
    },
    {
      "cell_type": "code",
      "execution_count": null,
      "metadata": {
        "colab": {
          "base_uri": "https://localhost:8080/"
        },
        "id": "NbxToI9vHlk9",
        "outputId": "53c007f8-d49f-4eb2-c15b-e3da9feaaa30"
      },
      "outputs": [
        {
          "name": "stdout",
          "output_type": "stream",
          "text": [
            "root\n",
            " |-- aluminium: double (nullable = true)\n",
            " |-- ammonia: string (nullable = true)\n",
            " |-- arsenic: double (nullable = true)\n",
            " |-- barium: double (nullable = true)\n",
            " |-- cadmium: double (nullable = true)\n",
            " |-- chloramine: double (nullable = true)\n",
            " |-- chromium: double (nullable = true)\n",
            " |-- copper: double (nullable = true)\n",
            " |-- flouride: double (nullable = true)\n",
            " |-- bacteria: double (nullable = true)\n",
            " |-- viruses: double (nullable = true)\n",
            " |-- lead: double (nullable = true)\n",
            " |-- nitrates: double (nullable = true)\n",
            " |-- nitrites: double (nullable = true)\n",
            " |-- mercury: double (nullable = true)\n",
            " |-- perchlorate: double (nullable = true)\n",
            " |-- radium: double (nullable = true)\n",
            " |-- selenium: double (nullable = true)\n",
            " |-- silver: double (nullable = true)\n",
            " |-- uranium: double (nullable = true)\n",
            " |-- is_safe: string (nullable = true)\n",
            "\n"
          ]
        }
      ],
      "source": [
        "water.printSchema()"
      ]
    },
    {
      "cell_type": "code",
      "execution_count": null,
      "metadata": {
        "id": "ZkSowRSNxEbW"
      },
      "outputs": [],
      "source": [
        "# Convert tipe data kolom ammonia dari string ke double\n",
        "water = water.withColumn(\"ammonia\",water.ammonia.cast('double'))"
      ]
    },
    {
      "cell_type": "code",
      "execution_count": null,
      "metadata": {
        "id": "AgYiqBoaxFEu"
      },
      "outputs": [],
      "source": [
        "# Convert tipe data kolom is_safe dari string ke double\n",
        "water = water.withColumn(\"is_safe\",water.is_safe.cast('double'))"
      ]
    },
    {
      "cell_type": "code",
      "execution_count": null,
      "metadata": {
        "colab": {
          "base_uri": "https://localhost:8080/"
        },
        "id": "0vlktK-FIqwr",
        "outputId": "e6b355ca-1f21-45c3-f6da-7834c88800c7"
      },
      "outputs": [
        {
          "name": "stdout",
          "output_type": "stream",
          "text": [
            "root\n",
            " |-- aluminium: double (nullable = true)\n",
            " |-- ammonia: double (nullable = true)\n",
            " |-- arsenic: double (nullable = true)\n",
            " |-- barium: double (nullable = true)\n",
            " |-- cadmium: double (nullable = true)\n",
            " |-- chloramine: double (nullable = true)\n",
            " |-- chromium: double (nullable = true)\n",
            " |-- copper: double (nullable = true)\n",
            " |-- flouride: double (nullable = true)\n",
            " |-- bacteria: double (nullable = true)\n",
            " |-- viruses: double (nullable = true)\n",
            " |-- lead: double (nullable = true)\n",
            " |-- nitrates: double (nullable = true)\n",
            " |-- nitrites: double (nullable = true)\n",
            " |-- mercury: double (nullable = true)\n",
            " |-- perchlorate: double (nullable = true)\n",
            " |-- radium: double (nullable = true)\n",
            " |-- selenium: double (nullable = true)\n",
            " |-- silver: double (nullable = true)\n",
            " |-- uranium: double (nullable = true)\n",
            " |-- is_safe: double (nullable = true)\n",
            "\n"
          ]
        }
      ],
      "source": [
        "water.printSchema()"
      ]
    },
    {
      "cell_type": "code",
      "execution_count": null,
      "metadata": {
        "id": "EX37Pf-cB3aR"
      },
      "outputs": [],
      "source": [
        "# Retrieved 7000 data from the entire dataset\n",
        "water = water.limit(7000)"
      ]
    },
    {
      "cell_type": "code",
      "execution_count": null,
      "metadata": {
        "colab": {
          "base_uri": "https://localhost:8080/"
        },
        "id": "5J8ne31PA_Wq",
        "outputId": "1673f151-728b-4b01-c932-765a122569a0"
      },
      "outputs": [
        {
          "name": "stdout",
          "output_type": "stream",
          "text": [
            "Dataset berjumlah 7000 baris\n"
          ]
        }
      ],
      "source": [
        "# View the number of datasets\n",
        "rows = water.count()\n",
        "print(f\"Dataset berjumlah {rows} baris\") # Dataset with {rows} rows"
      ]
    },
    {
      "cell_type": "code",
      "execution_count": null,
      "metadata": {
        "colab": {
          "base_uri": "https://localhost:8080/",
          "height": 248
        },
        "id": "Yv8prWWt4DQ7",
        "outputId": "7ffa2c32-8cd2-4c49-b6a2-45e1f7dda5ef"
      },
      "outputs": [
        {
          "data": {
            "image/png": "[encoded data removed]",
            "text/plain": [
              "<Figure size 432x288 with 1 Axes>"
            ]
          },
          "metadata": {},
          "output_type": "display_data"
        }
      ],
      "source": [
        "water_df = water.toPandas()\n",
        "piefreq = water_df['is_safe'].value_counts()\n",
        "waterdf_piefreq = piefreq.reset_index()\n",
        "fig = waterdf_piefreq.plot.pie(\n",
        "    y=\"is_safe\",\n",
        ")"
      ]
    },
    {
      "cell_type": "code",
      "execution_count": null,
      "metadata": {
        "colab": {
          "base_uri": "https://localhost:8080/"
        },
        "id": "wzV9OYJB4zeS",
        "outputId": "33f08bbc-9332-4775-8dbf-99295c08f6a4"
      },
      "outputs": [
        {
          "data": {
            "text/plain": [
              "array(['aluminium', 'ammonia', 'arsenic', 'barium', 'cadmium',\n",
              "       'chloramine', 'chromium', 'copper', 'flouride', 'bacteria',\n",
              "       'viruses', 'lead', 'nitrates', 'nitrites', 'mercury',\n",
              "       'perchlorate', 'radium', 'selenium', 'silver', 'uranium'],\n",
              "      dtype='<U11')"
            ]
          },
          "execution_count": 32,
          "metadata": {},
          "output_type": "execute_result"
        }
      ],
      "source": [
        "# Accommodates independent columns in one variable\n",
        "cols = water.columns[:-1]\n",
        "cols = np.array(cols)\n",
        "cols"
      ]
    },
    {
      "cell_type": "code",
      "execution_count": null,
      "metadata": {
        "colab": {
          "base_uri": "https://localhost:8080/"
        },
        "id": "wPHh6Mw5X19h",
        "outputId": "84c1e54f-dd6b-43a7-c5ee-e8e8f4971143"
      },
      "outputs": [
        {
          "name": "stdout",
          "output_type": "stream",
          "text": [
            "+------------------------------------------------------------------------------------------------------------+-----+\n",
            "|features                                                                                                    |label|\n",
            "+------------------------------------------------------------------------------------------------------------+-----+\n",
            "|[1.65,9.08,0.04,2.85,0.007,0.35,0.83,0.17,0.05,0.2,0.0,0.054,16.08,1.13,0.007,37.75,6.78,0.08,0.34,0.02]    |1.0  |\n",
            "|[2.32,21.16,0.01,3.31,0.002,5.28,0.68,0.66,0.9,0.65,0.65,0.1,2.01,1.93,0.003,32.26,3.21,0.08,0.27,0.05]     |1.0  |\n",
            "|[1.01,14.02,0.04,0.58,0.008,4.24,0.53,0.02,0.99,0.05,0.003,0.078,14.16,1.11,0.006,50.28,7.07,0.07,0.44,0.01]|0.0  |\n",
            "|[1.36,11.33,0.04,2.96,0.001,7.23,0.03,1.66,1.08,0.71,0.71,0.016,1.41,1.29,0.004,9.12,1.72,0.02,0.45,0.05]   |1.0  |\n",
            "|[0.92,24.33,0.03,0.2,0.006,2.67,0.69,0.57,0.61,0.13,0.001,0.117,6.74,1.11,0.003,16.9,2.41,0.02,0.06,0.02]   |1.0  |\n",
            "|[0.94,14.47,0.03,2.88,0.003,0.8,0.43,1.38,0.11,0.67,0.67,0.135,9.75,1.89,0.006,27.17,5.42,0.08,0.19,0.02]   |1.0  |\n",
            "|[2.36,5.6,0.01,1.35,0.004,1.28,0.62,1.88,0.33,0.13,0.007,0.021,18.6,1.78,0.007,45.34,2.84,0.1,0.24,0.08]    |0.0  |\n",
            "|[3.93,19.87,0.04,0.66,0.001,6.22,0.1,1.86,0.86,0.16,0.005,0.197,13.65,1.81,0.001,53.35,7.24,0.08,0.08,0.07] |0.0  |\n",
            "|[0.6,24.58,0.01,0.71,0.005,3.14,0.77,1.45,0.98,0.35,0.002,0.167,14.66,1.84,0.004,23.43,4.99,0.08,0.25,0.08] |1.0  |\n",
            "|[0.22,16.76,0.02,1.37,0.007,6.4,0.49,0.82,1.24,0.83,0.83,0.109,4.79,1.46,0.01,30.42,0.08,0.03,0.31,0.01]    |1.0  |\n",
            "+------------------------------------------------------------------------------------------------------------+-----+\n",
            "only showing top 10 rows\n",
            "\n"
          ]
        }
      ],
      "source": [
        "vecAssembler = VectorAssembler(inputCols = cols, outputCol = \"features\")\n",
        "water = water.withColumnRenamed(\"is_safe\",\"label\")\n",
        "\n",
        "water_df = vecAssembler.transform(water)\n",
        "water_df = water_df.select(['features', 'label'])\n",
        "water_df.show(10, truncate=False)"
      ]
    },
    {
      "cell_type": "markdown",
      "metadata": {
        "id": "bA4I_R6JgRzQ"
      },
      "source": [
        "## **Modelling and evaluation**"
      ]
    },
    {
      "cell_type": "markdown",
      "metadata": {
        "id": "3tC-42MP-1gW"
      },
      "source": [
        "**Modelling**"
      ]
    },
    {
      "cell_type": "code",
      "execution_count": null,
      "metadata": {
        "colab": {
          "base_uri": "https://localhost:8080/"
        },
        "id": "R5nDzWefEk9D",
        "outputId": "070b560c-1df7-476a-c640-9f7afb376065"
      },
      "outputs": [
        {
          "name": "stdout",
          "output_type": "stream",
          "text": [
            "Test set accuracy = 0.9282576866764275\n"
          ]
        }
      ],
      "source": [
        "# Split the data into train and test\n",
        "splits = water_df.randomSplit([0.9, 0.1], 1234)\n",
        "train = splits[0]\n",
        "test = splits[1]\n",
        "\n",
        "# specify layers for the neural network:\n",
        "# input layer of size 20 (features), two intermediate of size 34 and 89\n",
        "# and output of size 2 (classes)\n",
        "layers = [20, 34, 89, 2]\n",
        "\n",
        "# create the trainer and set its parameters\n",
        "trainer = MultilayerPerceptronClassifier(maxIter=100, layers=layers, blockSize=128, seed=1234)\n",
        "\n",
        "# train the model\n",
        "model = trainer.fit(train)\n",
        "\n",
        "# compute accuracy on the test set\n",
        "result = model.transform(test)\n",
        "predictionAndLabels = result.select(\"prediction\", \"label\")\n",
        "evaluator = MulticlassClassificationEvaluator(metricName=\"accuracy\")\n",
        "print(\"Test set accuracy = \" + str(evaluator.evaluate(predictionAndLabels)))"
      ]
    },
    {
      "cell_type": "code",
      "execution_count": null,
      "metadata": {
        "colab": {
          "base_uri": "https://localhost:8080/"
        },
        "id": "psbdfHoAYEjc",
        "outputId": "e21af440-e754-47c6-827d-5e3c0d3ecfbc"
      },
      "outputs": [
        {
          "name": "stdout",
          "output_type": "stream",
          "text": [
            "+--------------------+-----+--------------------+--------------------+----------+\n",
            "|            features|label|       rawPrediction|         probability|prediction|\n",
            "+--------------------+-----+--------------------+--------------------+----------+\n",
            "|[0.0,4.32,0.04,0....|  0.0|[3.55751767561411...|[0.99813700705072...|       0.0|\n",
            "|[0.0,4.89,0.04,0....|  0.0|[2.78834706299831...|[0.99062251826784...|       0.0|\n",
            "|[0.0,9.82,0.68,0....|  0.0|[2.96563785175352...|[0.99368004688380...|       0.0|\n",
            "|[0.0,10.19,0.06,0...|  1.0|[1.83771998278192...|[0.94191244002955...|       0.0|\n",
            "|[0.0,11.26,0.0,0....|  0.0|[1.80692348654525...|[0.94492739859880...|       0.0|\n",
            "|[0.0,12.31,0.1,0....|  0.0|[2.86078962048382...|[0.99339764459578...|       0.0|\n",
            "|[0.0,13.74,0.01,1...|  0.0|[2.03491603013674...|[0.96059070477090...|       0.0|\n",
            "|[0.0,14.25,0.02,1...|  0.0|[2.67169885568273...|[0.98889814019317...|       0.0|\n",
            "|[0.0,14.38,0.86,1...|  0.0|[4.80921843475253...|[0.99985425565882...|       0.0|\n",
            "|[0.0,14.45,0.07,0...|  0.0|[2.79790990418723...|[0.99154077206954...|       0.0|\n",
            "|[0.0,17.09,0.01,2...|  0.0|[2.21672628737945...|[0.97127462102933...|       0.0|\n",
            "|[0.0,18.34,0.03,0...|  0.0|[3.88518926778290...|[0.99911648210713...|       0.0|\n",
            "|[0.0,19.43,0.05,0...|  0.0|[2.71680537624505...|[0.99033684773102...|       0.0|\n",
            "|[0.0,19.69,0.48,3...|  0.0|[2.85031260911515...|[0.99268863750247...|       0.0|\n",
            "|[0.0,23.08,0.06,2...|  0.0|[2.98205939205285...|[0.99440051518188...|       0.0|\n",
            "|[0.0,23.23,0.04,1...|  0.0|[1.96509674211851...|[0.95716577236943...|       0.0|\n",
            "|[0.0,23.71,0.08,0...|  0.0|[2.96099955074743...|[0.99434644417573...|       0.0|\n",
            "|[0.0,24.2,0.05,0....|  0.0|[3.79002011605418...|[0.99903709098618...|       0.0|\n",
            "|[0.0,24.82,0.05,0...|  0.0|[1.01326055908328...|[0.78059357674204...|       0.0|\n",
            "|[0.0,25.1,0.78,1....|  0.0|[3.61299815411488...|[0.99849040104555...|       0.0|\n",
            "+--------------------+-----+--------------------+--------------------+----------+\n",
            "only showing top 20 rows\n",
            "\n"
          ]
        }
      ],
      "source": [
        "result.show()"
      ]
    },
    {
      "cell_type": "markdown",
      "metadata": {
        "id": "IfEP5ayE6bsl"
      },
      "source": [
        "**Evaluation**"
      ]
    },
    {
      "cell_type": "code",
      "execution_count": null,
      "metadata": {
        "colab": {
          "base_uri": "https://localhost:8080/"
        },
        "id": "HYQdy5xt6M8i",
        "outputId": "82801866-90f6-495d-8f2a-5423949ad053"
      },
      "outputs": [
        {
          "name": "stdout",
          "output_type": "stream",
          "text": [
            "              precision    recall  f1-score   support\n",
            "\n",
            "         0.0       0.94      0.98      0.96       589\n",
            "         1.0       0.82      0.62      0.70        94\n",
            "\n",
            "    accuracy                           0.93       683\n",
            "   macro avg       0.88      0.80      0.83       683\n",
            "weighted avg       0.92      0.93      0.92       683\n",
            "\n"
          ]
        }
      ],
      "source": [
        "label = np.array(result.select(\"label\").collect())\n",
        "prediction = np.array(result.select(\"prediction\").collect())\n",
        "\n",
        "print(classification_report(label, prediction))"
      ]
    },
    {
      "cell_type": "code",
      "execution_count": null,
      "metadata": {
        "colab": {
          "base_uri": "https://localhost:8080/"
        },
        "id": "uL4Np27F6_A1",
        "outputId": "b90d8286-1087-4342-b5bc-283a73e8422e"
      },
      "outputs": [
        {
          "data": {
            "text/plain": [
              "array([[576,  13],\n",
              "       [ 36,  58]])"
            ]
          },
          "execution_count": 37,
          "metadata": {},
          "output_type": "execute_result"
        }
      ],
      "source": [
        "confusion_matrix(label, prediction)"
      ]
    },
    {
      "cell_type": "markdown",
      "metadata": {
        "id": "U4GX9tyg-w0p"
      },
      "source": [
        "**Prediction Test**"
      ]
    },
    {
      "cell_type": "code",
      "execution_count": null,
      "metadata": {
        "colab": {
          "base_uri": "https://localhost:8080/"
        },
        "id": "zmvv_jcTW-U8",
        "outputId": "8c5b7115-5ba7-4346-c8e1-c18efdb17a5d"
      },
      "outputs": [
        {
          "name": "stdout",
          "output_type": "stream",
          "text": [
            "Air tidak aman dikonsumsi\n"
          ]
        }
      ],
      "source": [
        "predict1 = model.predict(Vectors.dense([3,40,0.2,3.2,0.009,6.22,0.5,1.86,2,0.16,0.1,0.2,14,2,0.01,60,7.24,0.65,0.1,0.5]))\n",
        "if predict1 == 0:\n",
        "  print('Air tidak aman dikonsumsi') # Water is not safe for consumption\n",
        "else:\n",
        "  print('Air aman dikonsumsi') # Water is safe for consumption"
      ]
    },
    {
      "cell_type": "code",
      "execution_count": null,
      "metadata": {
        "colab": {
          "base_uri": "https://localhost:8080/"
        },
        "id": "_C2xg81iXPoI",
        "outputId": "f210a85c-6e47-4ee7-870c-b18673181b3b"
      },
      "outputs": [
        {
          "name": "stdout",
          "output_type": "stream",
          "text": [
            "Air aman dikonsumsi\n"
          ]
        }
      ],
      "source": [
        "predict2 = model.predict(Vectors.dense([2,20,0.005,0.5,0.001,2,0.002,0.57,0.5,0,0,0.001,6.74,0.8,0.001,15,3,0.02,0.04,0.01]))\n",
        "if predict1 == 0:\n",
        "  print('Air tidak aman dikonsumsi') # Water is not safe for consumption\n",
        "else:\n",
        "  print('Air aman dikonsumsi') # Water is safe for consumption"
      ]
    }
  ],
  "metadata": {
    "colab": {
      "provenance": []
    },
    "gpuClass": "standard",
    "kernelspec": {
      "display_name": "Python 3",
      "name": "python3"
    },
    "language_info": {
      "name": "python"
    }
  },
  "nbformat": 4,
  "nbformat_minor": 0
}
